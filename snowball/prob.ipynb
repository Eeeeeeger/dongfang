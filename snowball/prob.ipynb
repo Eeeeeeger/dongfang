{
 "cells": [
  {
   "cell_type": "code",
   "execution_count": 14,
   "metadata": {
    "collapsed": true
   },
   "outputs": [],
   "source": [
    "import pandas as pd\n",
    "import numpy as np\n",
    "from dateutil.relativedelta import *\n",
    "import warnings\n",
    "warnings.filterwarnings('ignore')"
   ]
  },
  {
   "cell_type": "code",
   "execution_count": 22,
   "outputs": [],
   "source": [
    "df = pd.read_csv('./input/10Y.csv',index_col=0 ,parse_dates=True).dropna()\n",
    "df = df.loc['2013-01-31':]"
   ],
   "metadata": {
    "collapsed": false
   }
  },
  {
   "cell_type": "code",
   "execution_count": 23,
   "outputs": [],
   "source": [
    "dates_list = df.index.to_list()\n",
    "ans = pd.DataFrame(index=[20, 15, 10, 5, 0, -5, -10, -15, -20],\n",
    "                   columns=[1,2,3,6,12])\n",
    "for period in [1,2,3,6,12]:\n",
    "    total = 0\n",
    "    cnt = {k:0 for k in [20, 15, 10, 5, 0, -5, -10, -15, -20]}\n",
    "    for ii in range(len(df)):\n",
    "        if dates_list[ii] > dates_list[-1]-relativedelta(months=period):\n",
    "            break\n",
    "        temp = df.loc[dates_list[ii]:dates_list[ii]+relativedelta(months=period)]\n",
    "        temp['amp'] = temp['close'] - temp['close'].iloc[0]\n",
    "\n",
    "        for multi in [20, 15, 10, 5, 0, -5, -10, -15, -20]:\n",
    "            amp = 0.01 * multi\n",
    "            if amp >= 0 and (temp['amp'].iloc[-1]>amp):\n",
    "                    cnt[multi] = cnt[multi]  + 1\n",
    "            elif amp <0 and (temp['amp'].iloc[-1]<amp):\n",
    "                    cnt[multi]  = cnt[multi]  +1\n",
    "        total = total + 1\n",
    "    for multi in [20, 15, 10, 5, 0, -5, -10, -15, -20]:\n",
    "        ans.loc[multi,period] = cnt[multi] / total"
   ],
   "metadata": {
    "collapsed": false
   }
  },
  {
   "cell_type": "code",
   "execution_count": 24,
   "outputs": [
    {
     "data": {
      "text/plain": "           1         2         3         6         12\n 20  0.071745  0.133849  0.207307  0.248947  0.265098\n 15  0.120919  0.197722  0.243432  0.269587  0.273091\n 10  0.192664  0.275427  0.309934  0.302022   0.28508\n 5   0.309553  0.358421  0.376847  0.328559  0.317052\n 0   0.454252  0.459317   0.44335  0.365206  0.361012\n-5   0.388956  0.439788  0.465517  0.581297   0.60746\n-10  0.234583  0.342555   0.38711  0.505055  0.576821\n-15  0.122128  0.248983   0.31486  0.422072  0.544849\n-20  0.061669  0.161107  0.245484  0.354254   0.51865",
      "text/html": "<div>\n<style scoped>\n    .dataframe tbody tr th:only-of-type {\n        vertical-align: middle;\n    }\n\n    .dataframe tbody tr th {\n        vertical-align: top;\n    }\n\n    .dataframe thead th {\n        text-align: right;\n    }\n</style>\n<table border=\"1\" class=\"dataframe\">\n  <thead>\n    <tr style=\"text-align: right;\">\n      <th></th>\n      <th>1</th>\n      <th>2</th>\n      <th>3</th>\n      <th>6</th>\n      <th>12</th>\n    </tr>\n  </thead>\n  <tbody>\n    <tr>\n      <th>20</th>\n      <td>0.071745</td>\n      <td>0.133849</td>\n      <td>0.207307</td>\n      <td>0.248947</td>\n      <td>0.265098</td>\n    </tr>\n    <tr>\n      <th>15</th>\n      <td>0.120919</td>\n      <td>0.197722</td>\n      <td>0.243432</td>\n      <td>0.269587</td>\n      <td>0.273091</td>\n    </tr>\n    <tr>\n      <th>10</th>\n      <td>0.192664</td>\n      <td>0.275427</td>\n      <td>0.309934</td>\n      <td>0.302022</td>\n      <td>0.28508</td>\n    </tr>\n    <tr>\n      <th>5</th>\n      <td>0.309553</td>\n      <td>0.358421</td>\n      <td>0.376847</td>\n      <td>0.328559</td>\n      <td>0.317052</td>\n    </tr>\n    <tr>\n      <th>0</th>\n      <td>0.454252</td>\n      <td>0.459317</td>\n      <td>0.44335</td>\n      <td>0.365206</td>\n      <td>0.361012</td>\n    </tr>\n    <tr>\n      <th>-5</th>\n      <td>0.388956</td>\n      <td>0.439788</td>\n      <td>0.465517</td>\n      <td>0.581297</td>\n      <td>0.60746</td>\n    </tr>\n    <tr>\n      <th>-10</th>\n      <td>0.234583</td>\n      <td>0.342555</td>\n      <td>0.38711</td>\n      <td>0.505055</td>\n      <td>0.576821</td>\n    </tr>\n    <tr>\n      <th>-15</th>\n      <td>0.122128</td>\n      <td>0.248983</td>\n      <td>0.31486</td>\n      <td>0.422072</td>\n      <td>0.544849</td>\n    </tr>\n    <tr>\n      <th>-20</th>\n      <td>0.061669</td>\n      <td>0.161107</td>\n      <td>0.245484</td>\n      <td>0.354254</td>\n      <td>0.51865</td>\n    </tr>\n  </tbody>\n</table>\n</div>"
     },
     "execution_count": 24,
     "metadata": {},
     "output_type": "execute_result"
    }
   ],
   "source": [
    "ans"
   ],
   "metadata": {
    "collapsed": false
   }
  },
  {
   "cell_type": "code",
   "execution_count": 13,
   "outputs": [
    {
     "data": {
      "text/plain": "             close     amp\n2014-10-11  3.9965  0.0000\n2014-10-13  3.9953 -0.0012\n2014-10-14  3.9015 -0.0950\n2014-10-15  3.8215 -0.1750\n2014-10-16  3.8116 -0.1849\n2014-10-17  3.8110 -0.1855\n2014-10-20  3.7441 -0.2524\n2014-10-21  3.7323 -0.2642\n2014-10-22  3.7929 -0.2036\n2014-10-23  3.8108 -0.1857\n2014-10-24  3.8013 -0.1952\n2014-10-27  3.7756 -0.2209\n2014-10-28  3.7424 -0.2541\n2014-10-29  3.7176 -0.2789\n2014-10-30  3.7688 -0.2277\n2014-10-31  3.7559 -0.2406\n2014-11-03  3.7007 -0.2958\n2014-11-04  3.6412 -0.3553\n2014-11-05  3.6117 -0.3848\n2014-11-06  3.6223 -0.3742\n2014-11-07  3.5631 -0.4334\n2014-11-10  3.5132 -0.4833\n2014-11-11  3.4981 -0.4984",
      "text/html": "<div>\n<style scoped>\n    .dataframe tbody tr th:only-of-type {\n        vertical-align: middle;\n    }\n\n    .dataframe tbody tr th {\n        vertical-align: top;\n    }\n\n    .dataframe thead th {\n        text-align: right;\n    }\n</style>\n<table border=\"1\" class=\"dataframe\">\n  <thead>\n    <tr style=\"text-align: right;\">\n      <th></th>\n      <th>close</th>\n      <th>amp</th>\n    </tr>\n  </thead>\n  <tbody>\n    <tr>\n      <th>2014-10-11</th>\n      <td>3.9965</td>\n      <td>0.0000</td>\n    </tr>\n    <tr>\n      <th>2014-10-13</th>\n      <td>3.9953</td>\n      <td>-0.0012</td>\n    </tr>\n    <tr>\n      <th>2014-10-14</th>\n      <td>3.9015</td>\n      <td>-0.0950</td>\n    </tr>\n    <tr>\n      <th>2014-10-15</th>\n      <td>3.8215</td>\n      <td>-0.1750</td>\n    </tr>\n    <tr>\n      <th>2014-10-16</th>\n      <td>3.8116</td>\n      <td>-0.1849</td>\n    </tr>\n    <tr>\n      <th>2014-10-17</th>\n      <td>3.8110</td>\n      <td>-0.1855</td>\n    </tr>\n    <tr>\n      <th>2014-10-20</th>\n      <td>3.7441</td>\n      <td>-0.2524</td>\n    </tr>\n    <tr>\n      <th>2014-10-21</th>\n      <td>3.7323</td>\n      <td>-0.2642</td>\n    </tr>\n    <tr>\n      <th>2014-10-22</th>\n      <td>3.7929</td>\n      <td>-0.2036</td>\n    </tr>\n    <tr>\n      <th>2014-10-23</th>\n      <td>3.8108</td>\n      <td>-0.1857</td>\n    </tr>\n    <tr>\n      <th>2014-10-24</th>\n      <td>3.8013</td>\n      <td>-0.1952</td>\n    </tr>\n    <tr>\n      <th>2014-10-27</th>\n      <td>3.7756</td>\n      <td>-0.2209</td>\n    </tr>\n    <tr>\n      <th>2014-10-28</th>\n      <td>3.7424</td>\n      <td>-0.2541</td>\n    </tr>\n    <tr>\n      <th>2014-10-29</th>\n      <td>3.7176</td>\n      <td>-0.2789</td>\n    </tr>\n    <tr>\n      <th>2014-10-30</th>\n      <td>3.7688</td>\n      <td>-0.2277</td>\n    </tr>\n    <tr>\n      <th>2014-10-31</th>\n      <td>3.7559</td>\n      <td>-0.2406</td>\n    </tr>\n    <tr>\n      <th>2014-11-03</th>\n      <td>3.7007</td>\n      <td>-0.2958</td>\n    </tr>\n    <tr>\n      <th>2014-11-04</th>\n      <td>3.6412</td>\n      <td>-0.3553</td>\n    </tr>\n    <tr>\n      <th>2014-11-05</th>\n      <td>3.6117</td>\n      <td>-0.3848</td>\n    </tr>\n    <tr>\n      <th>2014-11-06</th>\n      <td>3.6223</td>\n      <td>-0.3742</td>\n    </tr>\n    <tr>\n      <th>2014-11-07</th>\n      <td>3.5631</td>\n      <td>-0.4334</td>\n    </tr>\n    <tr>\n      <th>2014-11-10</th>\n      <td>3.5132</td>\n      <td>-0.4833</td>\n    </tr>\n    <tr>\n      <th>2014-11-11</th>\n      <td>3.4981</td>\n      <td>-0.4984</td>\n    </tr>\n  </tbody>\n</table>\n</div>"
     },
     "execution_count": 13,
     "metadata": {},
     "output_type": "execute_result"
    }
   ],
   "source": [],
   "metadata": {
    "collapsed": false
   }
  },
  {
   "cell_type": "code",
   "execution_count": null,
   "outputs": [],
   "source": [],
   "metadata": {
    "collapsed": false
   }
  }
 ],
 "metadata": {
  "kernelspec": {
   "display_name": "Python 3",
   "language": "python",
   "name": "python3"
  },
  "language_info": {
   "codemirror_mode": {
    "name": "ipython",
    "version": 2
   },
   "file_extension": ".py",
   "mimetype": "text/x-python",
   "name": "python",
   "nbconvert_exporter": "python",
   "pygments_lexer": "ipython2",
   "version": "2.7.6"
  }
 },
 "nbformat": 4,
 "nbformat_minor": 0
}
