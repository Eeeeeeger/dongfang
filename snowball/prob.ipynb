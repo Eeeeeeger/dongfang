{
 "cells": [
  {
   "cell_type": "code",
   "execution_count": 14,
   "metadata": {
    "collapsed": true
   },
   "outputs": [],
   "source": [
    "import pandas as pd\n",
    "import numpy as np\n",
    "from dateutil.relativedelta import *\n",
    "import warnings\n",
    "warnings.filterwarnings('ignore')"
   ]
  },
  {
   "cell_type": "code",
   "execution_count": 15,
   "outputs": [],
   "source": [
    "df = pd.read_csv('./input/10Y.csv',index_col=0 ,parse_dates=True).dropna()\n",
    "df = df.loc['2013-01-31':]"
   ],
   "metadata": {
    "collapsed": false
   }
  },
  {
   "cell_type": "code",
   "execution_count": 19,
   "outputs": [],
   "source": [
    "dates_list = df.index.to_list()\n",
    "ans = pd.DataFrame(index=[20, 15, 10, 5, 0, -5, -10, -15, -20],\n",
    "                   columns=[1,2,3,6,12])\n",
    "for period in [1,2,3,6,12]:\n",
    "    total = 0\n",
    "    cnt = {k:0 for k in [20, 15, 10, 5, 0, -5, -10, -15, -20]}\n",
    "    for ii in range(len(df)):\n",
    "        if dates_list[ii] > dates_list[-1]-relativedelta(months=period):\n",
    "            break\n",
    "        temp = df.loc[dates_list[ii]:dates_list[ii]+relativedelta(months=period)]\n",
    "        temp['amp'] = temp['close'] - temp['close'].iloc[0]\n",
    "\n",
    "        for multi in [20, 15, 10, 5, 0, -5, -10, -15, -20]:\n",
    "            amp = 0.01 * multi\n",
    "            if amp >= 0 and (temp['amp']>amp).any():\n",
    "                    cnt[multi] = cnt[multi]  + 1\n",
    "            elif amp <0 and (temp['amp']<amp).any():\n",
    "                    cnt[multi]  = cnt[multi]  +1\n",
    "        total = total + 1\n",
    "    for multi in [20, 15, 10, 5, 0, -5, -10, -15, -20]:\n",
    "        ans.loc[multi,period] = cnt[multi] / total"
   ],
   "metadata": {
    "collapsed": false
   }
  },
  {
   "cell_type": "code",
   "execution_count": 21,
   "outputs": [
    {
     "data": {
      "text/plain": "             close\n2013-01-31  3.6054\n2013-02-01  3.6004\n2013-02-04  3.6016\n2013-02-05  3.5910\n2013-02-06  3.5922\n...            ...\n2023-01-20  2.9331\n2023-01-28  2.9341\n2023-01-29  2.9219\n2023-01-30  2.9133\n2023-01-31  2.8977\n\n[2499 rows x 1 columns]",
      "text/html": "<div>\n<style scoped>\n    .dataframe tbody tr th:only-of-type {\n        vertical-align: middle;\n    }\n\n    .dataframe tbody tr th {\n        vertical-align: top;\n    }\n\n    .dataframe thead th {\n        text-align: right;\n    }\n</style>\n<table border=\"1\" class=\"dataframe\">\n  <thead>\n    <tr style=\"text-align: right;\">\n      <th></th>\n      <th>close</th>\n    </tr>\n  </thead>\n  <tbody>\n    <tr>\n      <th>2013-01-31</th>\n      <td>3.6054</td>\n    </tr>\n    <tr>\n      <th>2013-02-01</th>\n      <td>3.6004</td>\n    </tr>\n    <tr>\n      <th>2013-02-04</th>\n      <td>3.6016</td>\n    </tr>\n    <tr>\n      <th>2013-02-05</th>\n      <td>3.5910</td>\n    </tr>\n    <tr>\n      <th>2013-02-06</th>\n      <td>3.5922</td>\n    </tr>\n    <tr>\n      <th>...</th>\n      <td>...</td>\n    </tr>\n    <tr>\n      <th>2023-01-20</th>\n      <td>2.9331</td>\n    </tr>\n    <tr>\n      <th>2023-01-28</th>\n      <td>2.9341</td>\n    </tr>\n    <tr>\n      <th>2023-01-29</th>\n      <td>2.9219</td>\n    </tr>\n    <tr>\n      <th>2023-01-30</th>\n      <td>2.9133</td>\n    </tr>\n    <tr>\n      <th>2023-01-31</th>\n      <td>2.8977</td>\n    </tr>\n  </tbody>\n</table>\n<p>2499 rows × 1 columns</p>\n</div>"
     },
     "execution_count": 21,
     "metadata": {},
     "output_type": "execute_result"
    }
   ],
   "source": [
    "df"
   ],
   "metadata": {
    "collapsed": false
   }
  },
  {
   "cell_type": "code",
   "execution_count": 13,
   "outputs": [
    {
     "data": {
      "text/plain": "             close     amp\n2014-10-11  3.9965  0.0000\n2014-10-13  3.9953 -0.0012\n2014-10-14  3.9015 -0.0950\n2014-10-15  3.8215 -0.1750\n2014-10-16  3.8116 -0.1849\n2014-10-17  3.8110 -0.1855\n2014-10-20  3.7441 -0.2524\n2014-10-21  3.7323 -0.2642\n2014-10-22  3.7929 -0.2036\n2014-10-23  3.8108 -0.1857\n2014-10-24  3.8013 -0.1952\n2014-10-27  3.7756 -0.2209\n2014-10-28  3.7424 -0.2541\n2014-10-29  3.7176 -0.2789\n2014-10-30  3.7688 -0.2277\n2014-10-31  3.7559 -0.2406\n2014-11-03  3.7007 -0.2958\n2014-11-04  3.6412 -0.3553\n2014-11-05  3.6117 -0.3848\n2014-11-06  3.6223 -0.3742\n2014-11-07  3.5631 -0.4334\n2014-11-10  3.5132 -0.4833\n2014-11-11  3.4981 -0.4984",
      "text/html": "<div>\n<style scoped>\n    .dataframe tbody tr th:only-of-type {\n        vertical-align: middle;\n    }\n\n    .dataframe tbody tr th {\n        vertical-align: top;\n    }\n\n    .dataframe thead th {\n        text-align: right;\n    }\n</style>\n<table border=\"1\" class=\"dataframe\">\n  <thead>\n    <tr style=\"text-align: right;\">\n      <th></th>\n      <th>close</th>\n      <th>amp</th>\n    </tr>\n  </thead>\n  <tbody>\n    <tr>\n      <th>2014-10-11</th>\n      <td>3.9965</td>\n      <td>0.0000</td>\n    </tr>\n    <tr>\n      <th>2014-10-13</th>\n      <td>3.9953</td>\n      <td>-0.0012</td>\n    </tr>\n    <tr>\n      <th>2014-10-14</th>\n      <td>3.9015</td>\n      <td>-0.0950</td>\n    </tr>\n    <tr>\n      <th>2014-10-15</th>\n      <td>3.8215</td>\n      <td>-0.1750</td>\n    </tr>\n    <tr>\n      <th>2014-10-16</th>\n      <td>3.8116</td>\n      <td>-0.1849</td>\n    </tr>\n    <tr>\n      <th>2014-10-17</th>\n      <td>3.8110</td>\n      <td>-0.1855</td>\n    </tr>\n    <tr>\n      <th>2014-10-20</th>\n      <td>3.7441</td>\n      <td>-0.2524</td>\n    </tr>\n    <tr>\n      <th>2014-10-21</th>\n      <td>3.7323</td>\n      <td>-0.2642</td>\n    </tr>\n    <tr>\n      <th>2014-10-22</th>\n      <td>3.7929</td>\n      <td>-0.2036</td>\n    </tr>\n    <tr>\n      <th>2014-10-23</th>\n      <td>3.8108</td>\n      <td>-0.1857</td>\n    </tr>\n    <tr>\n      <th>2014-10-24</th>\n      <td>3.8013</td>\n      <td>-0.1952</td>\n    </tr>\n    <tr>\n      <th>2014-10-27</th>\n      <td>3.7756</td>\n      <td>-0.2209</td>\n    </tr>\n    <tr>\n      <th>2014-10-28</th>\n      <td>3.7424</td>\n      <td>-0.2541</td>\n    </tr>\n    <tr>\n      <th>2014-10-29</th>\n      <td>3.7176</td>\n      <td>-0.2789</td>\n    </tr>\n    <tr>\n      <th>2014-10-30</th>\n      <td>3.7688</td>\n      <td>-0.2277</td>\n    </tr>\n    <tr>\n      <th>2014-10-31</th>\n      <td>3.7559</td>\n      <td>-0.2406</td>\n    </tr>\n    <tr>\n      <th>2014-11-03</th>\n      <td>3.7007</td>\n      <td>-0.2958</td>\n    </tr>\n    <tr>\n      <th>2014-11-04</th>\n      <td>3.6412</td>\n      <td>-0.3553</td>\n    </tr>\n    <tr>\n      <th>2014-11-05</th>\n      <td>3.6117</td>\n      <td>-0.3848</td>\n    </tr>\n    <tr>\n      <th>2014-11-06</th>\n      <td>3.6223</td>\n      <td>-0.3742</td>\n    </tr>\n    <tr>\n      <th>2014-11-07</th>\n      <td>3.5631</td>\n      <td>-0.4334</td>\n    </tr>\n    <tr>\n      <th>2014-11-10</th>\n      <td>3.5132</td>\n      <td>-0.4833</td>\n    </tr>\n    <tr>\n      <th>2014-11-11</th>\n      <td>3.4981</td>\n      <td>-0.4984</td>\n    </tr>\n  </tbody>\n</table>\n</div>"
     },
     "execution_count": 13,
     "metadata": {},
     "output_type": "execute_result"
    }
   ],
   "source": [],
   "metadata": {
    "collapsed": false
   }
  },
  {
   "cell_type": "code",
   "execution_count": null,
   "outputs": [],
   "source": [],
   "metadata": {
    "collapsed": false
   }
  }
 ],
 "metadata": {
  "kernelspec": {
   "display_name": "Python 3",
   "language": "python",
   "name": "python3"
  },
  "language_info": {
   "codemirror_mode": {
    "name": "ipython",
    "version": 2
   },
   "file_extension": ".py",
   "mimetype": "text/x-python",
   "name": "python",
   "nbconvert_exporter": "python",
   "pygments_lexer": "ipython2",
   "version": "2.7.6"
  }
 },
 "nbformat": 4,
 "nbformat_minor": 0
}
